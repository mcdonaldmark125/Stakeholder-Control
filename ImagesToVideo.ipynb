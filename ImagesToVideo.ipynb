{
 "cells": [
  {
   "cell_type": "code",
   "execution_count": 6,
   "id": "b3e56acc-e393-4387-99f3-3490d0a56bf1",
   "metadata": {},
   "outputs": [
    {
     "name": "stdout",
     "output_type": "stream",
     "text": [
      "done\n"
     ]
    }
   ],
   "source": [
    "import cv2\n",
    "import os\n",
    "\n",
    "image_folder = r'C:\\Users\\mcdon\\control-of-particles\\Results\\Multiparticle\\Stakeholders\\Results\\Circle\\Eight'\n",
    "video_name = 'Pythonvideo.avi'\n",
    "fps = 10  # frames per second\n",
    "\n",
    "images = [img for img in os.listdir(image_folder) if img.endswith(\".png\")]\n",
    "frame = cv2.imread(os.path.join(image_folder, images[0]))\n",
    "height, width, layers = frame.shape\n",
    "\n",
    "# Define codec and compression parameters\n",
    "fourcc = cv2.VideoWriter_fourcc(*'XVID')  # You can also try other codecs, such as 'MJPG' or 'X264'\n",
    "video = cv2.VideoWriter(video_name, fourcc, fps, (width, height), isColor=True)\n",
    "\n",
    "for image in images:\n",
    "    frame = cv2.imread(os.path.join(image_folder, image))\n",
    "    video.write(frame)\n",
    "\n",
    "video.release()\n",
    "print(\"done\")"
   ]
  },
  {
   "cell_type": "code",
   "execution_count": null,
   "id": "50eebc40-0eec-4262-a236-8b152ee9d12c",
   "metadata": {},
   "outputs": [],
   "source": []
  }
 ],
 "metadata": {
  "kernelspec": {
   "display_name": "Python 3",
   "language": "python",
   "name": "python3"
  },
  "language_info": {
   "codemirror_mode": {
    "name": "ipython",
    "version": 3
   },
   "file_extension": ".py",
   "mimetype": "text/x-python",
   "name": "python",
   "nbconvert_exporter": "python",
   "pygments_lexer": "ipython3",
   "version": "3.7.13"
  }
 },
 "nbformat": 4,
 "nbformat_minor": 5
}
